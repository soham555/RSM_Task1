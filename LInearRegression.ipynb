{
 "cells": [
  {
   "cell_type": "code",
   "execution_count": null,
   "id": "e11f1d9f",
   "metadata": {},
   "outputs": [
    {
     "name": "stdout",
     "output_type": "stream",
     "text": [
      "Enter the following details for prediction:\n",
      "bedrooms\n",
      "bedrooms: 3\n",
      "bathrooms\n",
      "bathrooms: 3\n",
      "sqft_living\n",
      "sqft_living: 3\n",
      "sqft_lot\n"
     ]
    }
   ],
   "source": [
    "import numpy as np\n",
    "import pandas as pd\n",
    "import matplotlib.pyplot as plt\n",
    "\n",
    "df = pd.read_csv(r'C:\\Users\\soham\\Downloads\\USA Housing Dataset.csv')\n",
    "df = df.drop(['date', 'street', 'city', 'statezip', 'country'], axis='columns')\n",
    "X = df.drop('price', axis=1)\n",
    "y = df['price']\n",
    "X_scaled = (X - X.mean()) / X.std()\n",
    "X_scaled = np.c_[np.ones(X_scaled.shape[0]), X_scaled]\n",
    "y = y.values.reshape(-1, 1)\n",
    "\n",
    "def compute_cost(X, y, theta):\n",
    "    m = len(y)\n",
    "    predictions = X.dot(theta)\n",
    "    cost = (1 / (2 * m)) * np.sum(np.square(predictions - y))\n",
    "    return cost\n",
    "\n",
    "def gradient_descent(X, y, theta, learning_rate, iterations):\n",
    "    m = len(y)\n",
    "    cost_history = np.zeros(iterations)\n",
    "    for i in range(iterations):\n",
    "        predictions = X.dot(theta)\n",
    "        theta = theta - (1 / m) * learning_rate * (X.T.dot(predictions - y))\n",
    "        cost_history[i] = compute_cost(X, y, theta)\n",
    "    return theta, cost_history\n",
    "theta = np.zeros((X_scaled.shape[1], 1))\n",
    "learning_rate = 0.01\n",
    "iterations = 1000\n",
    "theta, cost_history = gradient_descent(X_scaled, y, theta, learning_rate, iterations)\n",
    "\n",
    "def predict_price():\n",
    "    print(\"Enter the following details for prediction:\")\n",
    "    for col in X.columns:\n",
    "        print(col)\n",
    "        value = float(input(f\"{col}: \"))\n",
    "        X_input.append(value)\n",
    "\n",
    "    X_input_scaled = [(X_input[i] - X[col].mean()) / X[col].std() for i, col in enumerate(X.columns)]\n",
    "    X_input_scaled = [1] + X_input_scaled  \n",
    "    \n",
    "\n",
    "    X_input_scaled = np.array(X_input_scaled).reshape(1, -1)\n",
    "    predicted_price = X_input_scaled.dot(theta)\n",
    "    print(f\"Predicted Price: {predicted_price[0][0]:.2f}\")\n",
    "\n",
    "\n",
    "X_input = []\n",
    "predict_price()"
   ]
  },
  {
   "cell_type": "markdown",
   "id": "0bfa783b",
   "metadata": {},
   "source": [
    "### "
   ]
  },
  {
   "cell_type": "code",
   "execution_count": null,
   "id": "08f8ceeb",
   "metadata": {},
   "outputs": [],
   "source": []
  }
 ],
 "metadata": {
  "kernelspec": {
   "display_name": "Python 3 (ipykernel)",
   "language": "python",
   "name": "python3"
  },
  "language_info": {
   "codemirror_mode": {
    "name": "ipython",
    "version": 3
   },
   "file_extension": ".py",
   "mimetype": "text/x-python",
   "name": "python",
   "nbconvert_exporter": "python",
   "pygments_lexer": "ipython3",
   "version": "3.11.5"
  }
 },
 "nbformat": 4,
 "nbformat_minor": 5
}
